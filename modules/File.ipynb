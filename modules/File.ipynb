{
 "cells": [
  {
   "cell_type": "markdown",
   "metadata": {},
   "source": [
    "# Filter Data"
   ]
  },
  {
   "cell_type": "code",
   "execution_count": 16,
   "metadata": {},
   "outputs": [],
   "source": [
    "# Dependencies\n",
    "import pandas as pd\n",
    "from os import listdir\n",
    "from os.path import isfile, join"
   ]
  },
  {
   "cell_type": "code",
   "execution_count": 24,
   "metadata": {},
   "outputs": [],
   "source": [
    "data_files = [f for f in listdir(\"../data\") if isfile(join(\"../data\", f))]"
   ]
  },
  {
   "cell_type": "code",
   "execution_count": 49,
   "metadata": {},
   "outputs": [
    {
     "ename": "ValueError",
     "evalue": "list.remove(x): x not in list",
     "output_type": "error",
     "traceback": [
      "\u001b[1;31m---------------------------------------------------------------------------\u001b[0m",
      "\u001b[1;31mValueError\u001b[0m                                Traceback (most recent call last)",
      "\u001b[1;32m<ipython-input-49-53c28865ef9e>\u001b[0m in \u001b[0;36m<module>\u001b[1;34m\u001b[0m\n\u001b[0;32m      1\u001b[0m \u001b[0mcrude_file\u001b[0m \u001b[1;33m=\u001b[0m \u001b[1;34m\"crudePrice.csv\"\u001b[0m\u001b[1;33m\u001b[0m\u001b[1;33m\u001b[0m\u001b[0m\n\u001b[1;32m----> 2\u001b[1;33m \u001b[0mdata_files\u001b[0m\u001b[1;33m.\u001b[0m\u001b[0mremove\u001b[0m\u001b[1;33m(\u001b[0m\u001b[0mcrude_file\u001b[0m\u001b[1;33m)\u001b[0m\u001b[1;33m\u001b[0m\u001b[1;33m\u001b[0m\u001b[0m\n\u001b[0m",
      "\u001b[1;31mValueError\u001b[0m: list.remove(x): x not in list"
     ]
    }
   ],
   "source": [
    "crude_file = \"crudePrice.csv\"\n",
    "data_files.remove(crude_file)"
   ]
  },
  {
   "cell_type": "code",
   "execution_count": 69,
   "metadata": {},
   "outputs": [],
   "source": [
    "crude_df = pd.read_csv(\"../data/\" + crude_file)"
   ]
  },
  {
   "cell_type": "code",
   "execution_count": 51,
   "metadata": {},
   "outputs": [],
   "source": [
    "adf = data_files[0].split(\".\")[0]\n",
    "dict_df = {}"
   ]
  },
  {
   "cell_type": "code",
   "execution_count": 52,
   "metadata": {},
   "outputs": [],
   "source": [
    "def company_csv(csv_file):\n",
    "    base_path = \"../data/\"\n",
    "    ticker = csv_file.split(\".\")[0]\n",
    "    dict_df[ticker] = pd.read_csv(base_path + csv_file)\n",
    "    print(base_path + csv_file)\n",
    "    return dict_df"
   ]
  },
  {
   "cell_type": "code",
   "execution_count": 53,
   "metadata": {},
   "outputs": [
    {
     "name": "stdout",
     "output_type": "stream",
     "text": [
      "../data/APA.csv\n",
      "../data/APC.csv\n",
      "../data/AR.csv\n",
      "../data/CDEV.csv\n",
      "../data/CEO.csv\n",
      "../data/CHK.csv\n",
      "../data/CLR.csv\n",
      "../data/CNQ.csv\n",
      "../data/COG.csv\n",
      "../data/COP.csv\n",
      "../data/CPE.csv\n",
      "../data/CXO.csv\n",
      "../data/DVN.csv\n",
      "../data/ECA.csv\n",
      "../data/EGN.csv\n",
      "../data/EOG.csv\n",
      "../data/EQT.csv\n",
      "../data/FANG.csv\n",
      "../data/GPOR.csv\n",
      "../data/HES.csv\n",
      "../data/JAG.csv\n",
      "../data/LPI.csv\n",
      "../data/MDU.csv\n",
      "../data/MRO.csv\n",
      "../data/MTDR.csv\n",
      "../data/MUR.csv\n",
      "../data/NBL.csv\n",
      "../data/NFX.csv\n",
      "../data/OAS.csv\n",
      "../data/OXY.csv\n",
      "../data/PDCE.csv\n",
      "../data/PE.csv\n",
      "../data/PXD.csv\n",
      "../data/RICE.csv\n",
      "../data/RRC.csv\n",
      "../data/RSPP.csv\n",
      "../data/SM.csv\n",
      "../data/SWN.csv\n",
      "../data/WLL.csv\n",
      "../data/WPX.csv\n",
      "../data/XEC.csv\n",
      "../data/XOG.csv\n"
     ]
    }
   ],
   "source": [
    "for csv in data_files:\n",
    "    company_csv(csv)"
   ]
  },
  {
   "cell_type": "code",
   "execution_count": 66,
   "metadata": {},
   "outputs": [],
   "source": [
    "company_list = list(dict_df.keys())"
   ]
  },
  {
   "cell_type": "code",
   "execution_count": 65,
   "metadata": {},
   "outputs": [
    {
     "data": {
      "text/plain": [
       "'APA'"
      ]
     },
     "execution_count": 65,
     "metadata": {},
     "output_type": "execute_result"
    }
   ],
   "source": [
    "abb[0]"
   ]
  },
  {
   "cell_type": "code",
   "execution_count": null,
   "metadata": {},
   "outputs": [],
   "source": []
  },
  {
   "cell_type": "code",
   "execution_count": 13,
   "metadata": {},
   "outputs": [],
   "source": [
    "a = pd.read_csv(\"../data/AR.csv\").drop(columns= [\"Unnamed: 0\"])"
   ]
  },
  {
   "cell_type": "code",
   "execution_count": 14,
   "metadata": {},
   "outputs": [
    {
     "data": {
      "text/html": [
       "<div>\n",
       "<style scoped>\n",
       "    .dataframe tbody tr th:only-of-type {\n",
       "        vertical-align: middle;\n",
       "    }\n",
       "\n",
       "    .dataframe tbody tr th {\n",
       "        vertical-align: top;\n",
       "    }\n",
       "\n",
       "    .dataframe thead th {\n",
       "        text-align: right;\n",
       "    }\n",
       "</style>\n",
       "<table border=\"1\" class=\"dataframe\">\n",
       "  <thead>\n",
       "    <tr style=\"text-align: right;\">\n",
       "      <th></th>\n",
       "      <th>date</th>\n",
       "      <th>open</th>\n",
       "      <th>high</th>\n",
       "      <th>low</th>\n",
       "      <th>close</th>\n",
       "      <th>adjusted_close</th>\n",
       "      <th>volume</th>\n",
       "      <th>dividend_amount</th>\n",
       "      <th>split_coefficient</th>\n",
       "    </tr>\n",
       "  </thead>\n",
       "  <tbody>\n",
       "    <tr>\n",
       "      <th>0</th>\n",
       "      <td>2019-05-07</td>\n",
       "      <td>7.48</td>\n",
       "      <td>8.09</td>\n",
       "      <td>7.45</td>\n",
       "      <td>8.00</td>\n",
       "      <td>8.00</td>\n",
       "      <td>14042335</td>\n",
       "      <td>0.0</td>\n",
       "      <td>1.0</td>\n",
       "    </tr>\n",
       "    <tr>\n",
       "      <th>1</th>\n",
       "      <td>2019-05-06</td>\n",
       "      <td>7.08</td>\n",
       "      <td>7.60</td>\n",
       "      <td>7.04</td>\n",
       "      <td>7.54</td>\n",
       "      <td>7.54</td>\n",
       "      <td>8834168</td>\n",
       "      <td>0.0</td>\n",
       "      <td>1.0</td>\n",
       "    </tr>\n",
       "    <tr>\n",
       "      <th>2</th>\n",
       "      <td>2019-05-03</td>\n",
       "      <td>7.27</td>\n",
       "      <td>7.39</td>\n",
       "      <td>7.14</td>\n",
       "      <td>7.17</td>\n",
       "      <td>7.17</td>\n",
       "      <td>9728046</td>\n",
       "      <td>0.0</td>\n",
       "      <td>1.0</td>\n",
       "    </tr>\n",
       "    <tr>\n",
       "      <th>3</th>\n",
       "      <td>2019-05-02</td>\n",
       "      <td>7.30</td>\n",
       "      <td>7.34</td>\n",
       "      <td>6.75</td>\n",
       "      <td>7.22</td>\n",
       "      <td>7.22</td>\n",
       "      <td>12474025</td>\n",
       "      <td>0.0</td>\n",
       "      <td>1.0</td>\n",
       "    </tr>\n",
       "    <tr>\n",
       "      <th>4</th>\n",
       "      <td>2019-05-01</td>\n",
       "      <td>7.28</td>\n",
       "      <td>7.33</td>\n",
       "      <td>7.07</td>\n",
       "      <td>7.13</td>\n",
       "      <td>7.13</td>\n",
       "      <td>6334940</td>\n",
       "      <td>0.0</td>\n",
       "      <td>1.0</td>\n",
       "    </tr>\n",
       "  </tbody>\n",
       "</table>\n",
       "</div>"
      ],
      "text/plain": [
       "         date  open  high   low  close  adjusted_close    volume  \\\n",
       "0  2019-05-07  7.48  8.09  7.45   8.00            8.00  14042335   \n",
       "1  2019-05-06  7.08  7.60  7.04   7.54            7.54   8834168   \n",
       "2  2019-05-03  7.27  7.39  7.14   7.17            7.17   9728046   \n",
       "3  2019-05-02  7.30  7.34  6.75   7.22            7.22  12474025   \n",
       "4  2019-05-01  7.28  7.33  7.07   7.13            7.13   6334940   \n",
       "\n",
       "   dividend_amount  split_coefficient  \n",
       "0              0.0                1.0  \n",
       "1              0.0                1.0  \n",
       "2              0.0                1.0  \n",
       "3              0.0                1.0  \n",
       "4              0.0                1.0  "
      ]
     },
     "execution_count": 14,
     "metadata": {},
     "output_type": "execute_result"
    }
   ],
   "source": [
    "a.head()"
   ]
  },
  {
   "cell_type": "code",
   "execution_count": 15,
   "metadata": {},
   "outputs": [
    {
     "data": {
      "text/html": [
       "<div>\n",
       "<style scoped>\n",
       "    .dataframe tbody tr th:only-of-type {\n",
       "        vertical-align: middle;\n",
       "    }\n",
       "\n",
       "    .dataframe tbody tr th {\n",
       "        vertical-align: top;\n",
       "    }\n",
       "\n",
       "    .dataframe thead th {\n",
       "        text-align: right;\n",
       "    }\n",
       "</style>\n",
       "<table border=\"1\" class=\"dataframe\">\n",
       "  <thead>\n",
       "    <tr style=\"text-align: right;\">\n",
       "      <th></th>\n",
       "      <th>date</th>\n",
       "      <th>open</th>\n",
       "      <th>high</th>\n",
       "      <th>low</th>\n",
       "      <th>close</th>\n",
       "      <th>adjusted_close</th>\n",
       "      <th>volume</th>\n",
       "      <th>dividend_amount</th>\n",
       "      <th>split_coefficient</th>\n",
       "    </tr>\n",
       "  </thead>\n",
       "  <tbody>\n",
       "    <tr>\n",
       "      <th>1397</th>\n",
       "      <td>2013-10-16</td>\n",
       "      <td>57.40</td>\n",
       "      <td>57.80</td>\n",
       "      <td>55.98</td>\n",
       "      <td>57.56</td>\n",
       "      <td>57.56</td>\n",
       "      <td>2233300</td>\n",
       "      <td>0.0</td>\n",
       "      <td>1.0</td>\n",
       "    </tr>\n",
       "    <tr>\n",
       "      <th>1398</th>\n",
       "      <td>2013-10-15</td>\n",
       "      <td>56.38</td>\n",
       "      <td>57.67</td>\n",
       "      <td>55.87</td>\n",
       "      <td>57.06</td>\n",
       "      <td>57.06</td>\n",
       "      <td>1566100</td>\n",
       "      <td>0.0</td>\n",
       "      <td>1.0</td>\n",
       "    </tr>\n",
       "    <tr>\n",
       "      <th>1399</th>\n",
       "      <td>2013-10-14</td>\n",
       "      <td>53.18</td>\n",
       "      <td>56.50</td>\n",
       "      <td>53.00</td>\n",
       "      <td>55.64</td>\n",
       "      <td>55.64</td>\n",
       "      <td>1018700</td>\n",
       "      <td>0.0</td>\n",
       "      <td>1.0</td>\n",
       "    </tr>\n",
       "    <tr>\n",
       "      <th>1400</th>\n",
       "      <td>2013-10-11</td>\n",
       "      <td>52.26</td>\n",
       "      <td>55.44</td>\n",
       "      <td>51.85</td>\n",
       "      <td>53.30</td>\n",
       "      <td>53.30</td>\n",
       "      <td>3245300</td>\n",
       "      <td>0.0</td>\n",
       "      <td>1.0</td>\n",
       "    </tr>\n",
       "    <tr>\n",
       "      <th>1401</th>\n",
       "      <td>2013-10-10</td>\n",
       "      <td>54.15</td>\n",
       "      <td>55.02</td>\n",
       "      <td>51.56</td>\n",
       "      <td>52.01</td>\n",
       "      <td>52.01</td>\n",
       "      <td>29240900</td>\n",
       "      <td>0.0</td>\n",
       "      <td>1.0</td>\n",
       "    </tr>\n",
       "  </tbody>\n",
       "</table>\n",
       "</div>"
      ],
      "text/plain": [
       "            date   open   high    low  close  adjusted_close    volume  \\\n",
       "1397  2013-10-16  57.40  57.80  55.98  57.56           57.56   2233300   \n",
       "1398  2013-10-15  56.38  57.67  55.87  57.06           57.06   1566100   \n",
       "1399  2013-10-14  53.18  56.50  53.00  55.64           55.64   1018700   \n",
       "1400  2013-10-11  52.26  55.44  51.85  53.30           53.30   3245300   \n",
       "1401  2013-10-10  54.15  55.02  51.56  52.01           52.01  29240900   \n",
       "\n",
       "      dividend_amount  split_coefficient  \n",
       "1397              0.0                1.0  \n",
       "1398              0.0                1.0  \n",
       "1399              0.0                1.0  \n",
       "1400              0.0                1.0  \n",
       "1401              0.0                1.0  "
      ]
     },
     "execution_count": 15,
     "metadata": {},
     "output_type": "execute_result"
    }
   ],
   "source": [
    "a.tail()"
   ]
  },
  {
   "cell_type": "code",
   "execution_count": null,
   "metadata": {},
   "outputs": [],
   "source": []
  }
 ],
 "metadata": {
  "kernelspec": {
   "display_name": "Python 3",
   "language": "python",
   "name": "python3"
  },
  "language_info": {
   "codemirror_mode": {
    "name": "ipython",
    "version": 3
   },
   "file_extension": ".py",
   "mimetype": "text/x-python",
   "name": "python",
   "nbconvert_exporter": "python",
   "pygments_lexer": "ipython3",
   "version": "3.7.3"
  }
 },
 "nbformat": 4,
 "nbformat_minor": 2
}

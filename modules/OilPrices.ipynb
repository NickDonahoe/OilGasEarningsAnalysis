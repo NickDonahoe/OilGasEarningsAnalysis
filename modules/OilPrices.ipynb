{
 "cells": [
  {
   "cell_type": "code",
   "execution_count": 2,
   "metadata": {},
   "outputs": [],
   "source": [
    "# \n",
    "import pandas as pd"
   ]
  },
  {
   "cell_type": "code",
   "execution_count": 4,
   "metadata": {},
   "outputs": [],
   "source": [
    "price_df = pd.read_csv(\"../data/crudePrice.csv\")"
   ]
  },
  {
   "cell_type": "code",
   "execution_count": 12,
   "metadata": {},
   "outputs": [
    {
     "data": {
      "text/plain": [
       "['2/19/2014',\n",
       " '5/9/2014',\n",
       " '5/28/2014',\n",
       " '8/7/2014',\n",
       " '11/6/2014',\n",
       " '2/20/2015',\n",
       " '5/7/2015',\n",
       " '8/10/2015',\n",
       " '11/6/2015',\n",
       " '11/17/2015',\n",
       " '2/19/2016',\n",
       " '5/5/2016',\n",
       " '8/9/2016',\n",
       " '11/8/2016',\n",
       " '2/15/2017',\n",
       " '5/4/2017',\n",
       " '8/2/2017',\n",
       " '11/7/2017',\n",
       " '2/15/2018',\n",
       " '5/10/2018',\n",
       " '8/9/2018',\n",
       " '11/7/2018',\n",
       " '2/25/2019',\n",
       " '3/12/2019',\n",
       " '5/10/2019']"
      ]
     },
     "execution_count": 12,
     "metadata": {},
     "output_type": "execute_result"
    }
   ],
   "source": [
    "fang = pd.read_csv(\"../../clean/Filing_Dates.csv\")\n",
    "list(fang['Filing Date'])"
   ]
  },
  {
   "cell_type": "code",
   "execution_count": null,
   "metadata": {},
   "outputs": [],
   "source": [
    "for "
   ]
  }
 ],
 "metadata": {
  "kernelspec": {
   "display_name": "Python 3",
   "language": "python",
   "name": "python3"
  },
  "language_info": {
   "codemirror_mode": {
    "name": "ipython",
    "version": 3
   },
   "file_extension": ".py",
   "mimetype": "text/x-python",
   "name": "python",
   "nbconvert_exporter": "python",
   "pygments_lexer": "ipython3",
   "version": "3.7.3"
  }
 },
 "nbformat": 4,
 "nbformat_minor": 2
}

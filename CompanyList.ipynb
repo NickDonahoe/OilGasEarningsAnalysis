{
 "cells": [
  {
   "cell_type": "code",
   "execution_count": 1,
   "metadata": {},
   "outputs": [],
   "source": [
    "# Dependencies\n",
    "from bs4 import BeautifulSoup\n",
    "import requests\n",
    "import re"
   ]
  },
  {
   "cell_type": "code",
   "execution_count": 2,
   "metadata": {},
   "outputs": [],
   "source": [
    "midcap = \"http://investsnips.com/list-of-publicly-traded-mid-cap-oil-gas-exploration-and-production-companies/\"\n",
    "largecap = \"http://investsnips.com/list-of-publicly-traded-large-cap-oil-gas-exploration-and-production-companies/\""
   ]
  },
  {
   "cell_type": "code",
   "execution_count": 3,
   "metadata": {},
   "outputs": [],
   "source": [
    "def midcap_ls(url):\n",
    "    response = requests.get(url)\n",
    "    soup = BeautifulSoup(response.text, 'html.parser')\n",
    "    midcap_html = soup.find(class_=\"et_pb_text_inner\").find_all('a')\n",
    "    company_list = []\n",
    "    for text in midcap_html:\n",
    "        company = text.get_text()\n",
    "        if re.findall(\"Mid-Cap+\", company):\n",
    "            company_list = []        \n",
    "            continue        \n",
    "        company_list.append(company)    \n",
    "        if re.findall(\"WPX+\", company):\n",
    "            break\n",
    "    return company_list"
   ]
  },
  {
   "cell_type": "code",
   "execution_count": 4,
   "metadata": {},
   "outputs": [],
   "source": [
    "def largecap_ls(url):\n",
    "    response = requests.get(url)\n",
    "    soup = BeautifulSoup(response.text, 'html.parser')\n",
    "    largecap_html = soup.find(class_=\"et_pb_text_inner\").find_all('a')\n",
    "    company_list = []\n",
    "    for text in largecap_html:\n",
    "        company = text.get_text()\n",
    "        if re.findall(\"Oil and+\", company):\n",
    "            company_list = []        \n",
    "            continue        \n",
    "        company_list.append(company)    \n",
    "        if re.findall(\"Pioneer+\", company):\n",
    "            break\n",
    "    return company_list"
   ]
  },
  {
   "cell_type": "code",
   "execution_count": 6,
   "metadata": {},
   "outputs": [],
   "source": [
    "all_companies = midcap_ls(midcap) + (largecap_ls(largecap))"
   ]
  },
  {
   "cell_type": "code",
   "execution_count": 7,
   "metadata": {},
   "outputs": [
    {
     "data": {
      "text/plain": [
       "['Antero Resources Corporation (AR)',\n",
       " 'Callon Petroleum Company (CPE)',\n",
       " 'Centennial Resource Development, Inc. (CDEV)',\n",
       " 'Chesapeake Energy Corporation (CHK)',\n",
       " 'Diamondback Energy, Inc. (FANG)',\n",
       " 'Energen Corporation (EGN)',\n",
       " 'EQT Corporation (EQT)',\n",
       " 'Extraction Oil & Gas, Inc. (XOG)',\n",
       " 'Gulfport Energy Corporation (GPOR)',\n",
       " 'Jagged Peak Energy Inc. (JAG)',\n",
       " 'Laredo Petroleum, Inc. (LPI)',\n",
       " 'Matador Resources Company (MTDR)',\n",
       " 'MDU Resources Group, Inc. (MDU)',\n",
       " 'Murphy Oil Corporation (MUR)',\n",
       " 'Newfield Exploration Company (NFX)',\n",
       " 'Oasis Petroleum Inc. (OAS)',\n",
       " 'Parsley Energy, Inc. (PE)',\n",
       " 'PDC Energy, Inc. (PDCE)',\n",
       " 'Range Resources Corporation (RRC)',\n",
       " 'Rice Energy Inc. (RICE)',\n",
       " 'RSP Permian, Inc. (RSPP)',\n",
       " 'SM Energy Company (SM)',\n",
       " 'Southwestern Energy Company (SWN)',\n",
       " 'Whiting Petroleum Corporation (WLL)',\n",
       " 'WPX Energy, Inc. (WPX)',\n",
       " 'Anadarko Petroleum Corporation (APC)',\n",
       " 'Apache Corporation (APA)',\n",
       " 'Cabot Oil & Gas Corporation (COG)',\n",
       " 'Canadian Natural Resources Limited (CNQ)',\n",
       " 'Cimarex Energy Co. (XEC)',\n",
       " 'CNOOC Limited (CEO)',\n",
       " 'Concho Resources Inc. (CXO)',\n",
       " 'ConocoPhillips (COP)',\n",
       " 'Continental Resources, Inc. (CLR)',\n",
       " 'Devon Energy Corporation (DVN)',\n",
       " 'Encana Corporation (ECA)',\n",
       " 'EOG Resources, Inc. (EOG)',\n",
       " 'Hess Corporation (HES)',\n",
       " 'Marathon Oil Corporation (MRO)',\n",
       " 'Noble Energy Inc. (NBL)',\n",
       " 'Occidental Petroleum Corporation (OXY)',\n",
       " 'Pioneer Natural Resources Company (PXD)']"
      ]
     },
     "execution_count": 7,
     "metadata": {},
     "output_type": "execute_result"
    }
   ],
   "source": [
    "all_companies"
   ]
  },
  {
   "cell_type": "code",
   "execution_count": null,
   "metadata": {},
   "outputs": [],
   "source": []
  }
 ],
 "metadata": {
  "kernelspec": {
   "display_name": "Python 3",
   "language": "python",
   "name": "python3"
  },
  "language_info": {
   "codemirror_mode": {
    "name": "ipython",
    "version": 3
   },
   "file_extension": ".py",
   "mimetype": "text/x-python",
   "name": "python",
   "nbconvert_exporter": "python",
   "pygments_lexer": "ipython3",
   "version": "3.7.3"
  }
 },
 "nbformat": 4,
 "nbformat_minor": 2
}
